{
 "cells": [
  {
   "cell_type": "markdown",
   "metadata": {},
   "source": [
    "## Ασκήσεις 35-37\n"
   ]
  },
  {
   "cell_type": "code",
   "execution_count": 35,
   "metadata": {},
   "outputs": [
    {
     "name": "stdout",
     "output_type": "stream",
     "text": [
      " \n",
      "    For M = 50, N = 200\n",
      "    The sample mean is 0.03890 and the sample variance is 0.00012\n",
      "    \n",
      " \n",
      "    For M = 50, N = 20000\n",
      "    The sample mean is 0.03998 and the sample variance is 0.00000\n",
      "    \n"
     ]
    }
   ],
   "source": [
    "import random\n",
    "random.seed(2018)  # for reproducibility\n",
    "from simple_markov_chain_lib import markov_chain\n",
    "import statistics as stat ## import the library statistics. We will use it to compute the mean and variance of our list\n",
    "\n",
    "\n",
    "p = 1/6\n",
    "\n",
    "# A dictionary for the initial distibution. \n",
    "# We prescribe the initial distribution\n",
    "init_probs = {1: 1.0} \n",
    " \n",
    "# A dictionary for the transition probability  matrix. \n",
    "# Every state-key corresponds to a list with tuples of (Next_State,Probability) \n",
    "markov_table = {\n",
    "    1: {2: 1.},\n",
    "    2: {2: 2/3, 3: 1/3},\n",
    "    3: {1: p, 2: 1-p}\n",
    "}\n",
    " \n",
    "# Ok... we are ready know\n",
    "# Let's construct a Markov Chain. So let's call the constructor\n",
    "mc = markov_chain(markov_table, init_probs)\n",
    "estimates=[] ## create the empty list estimates.\n",
    "M = 50\n",
    "\n",
    "## Experiment parameters\n",
    "\n",
    "for j in range(0,M):\n",
    "    N = 200     # number of samples\n",
    "    steps = 20   # the target time\n",
    "    counter = 0  # to count the number of times the event {X_40  = 1} occurs\n",
    "\n",
    "    ## Simulation\n",
    "    for i in range(N):\n",
    "        mc.start()  # new experiment\n",
    "        for j in range(steps):  mc.move()\n",
    "        if mc.running_state == 1:  counter += 1\n",
    "\n",
    "    phat = counter / N\n",
    "    estimates.append(phat)\n",
    "    \n",
    "print(\n",
    "    \"\"\" \n",
    "    For M = 50, N = 200\n",
    "    The sample mean is {0:.5f} and the sample variance is {1:.5f}\n",
    "    \"\"\".format(stat.mean(estimates), stat.variance(estimates))\n",
    ")\n",
    "\n",
    "estimates=[]\n",
    "\n",
    "for j in range(0,M):\n",
    "    N = 20000     # number of samples\n",
    "    steps = 20   # the target time\n",
    "    counter = 0  # to count the number of times the event {X_40  = 1} occurs\n",
    "\n",
    "    ## Simulation\n",
    "    for i in range(N):\n",
    "        mc.start()  # new experiment\n",
    "        for j in range(steps):  mc.move()\n",
    "        if mc.running_state == 1:  counter += 1\n",
    "\n",
    "    phat = counter / N\n",
    "    estimates.append(phat)\n",
    "    \n",
    "print(\n",
    "    \"\"\" \n",
    "    For M = 50, N = 20000\n",
    "    The sample mean is {0:.5f} and the sample variance is {1:.5f}\n",
    "    \"\"\".format(stat.mean(estimates), stat.variance(estimates))\n",
    ")\n"
   ]
  },
  {
   "cell_type": "code",
   "execution_count": 36,
   "metadata": {},
   "outputs": [
    {
     "name": "stdout",
     "output_type": "stream",
     "text": [
      "[[0.04 0.72 0.24]\n",
      " [0.04 0.72 0.24]\n",
      " [0.04 0.72 0.24]]\n"
     ]
    }
   ],
   "source": [
    "import numpy as NP\n",
    "from numpy.linalg import matrix_power\n",
    "from scipy import linalg as LA\n",
    "A = NP.array([[0, 1, 0],\n",
    "           [0, 2/3, 1/3],\n",
    "           [1/6, 5/6, 0]],dtype = NP.float64)\n",
    "\n",
    "A = matrix_power(A, 20)\n",
    "print(A)"
   ]
  },
  {
   "cell_type": "markdown",
   "metadata": {},
   "source": [
    "## Απαντήσεις ανάλυσης\n",
    "\n",
    "1. Ποια είναι ο μέσος όρος των $Μ$ εκτιμήσεων της πιθανότητας $\\mathbb{P}_1[X_{20}=1]$ όταν $N=200$ και ποιος όταν $N=20.000$;\n",
    "\n",
    "    Ο μέσος όρος όπως φαίνεται από το πρώτο μπλοκ κώδικα είναι για $200$ και $20.000$ δείγματα $0.0389$ και $0.03998$ αντίστοιχα.\n",
    "\n",
    "\n",
    "2. Είναι αυτά τα αποτελέσματα κοντά στη θεωρητική τιμή που έχετε υπολογίσει;\n",
    "\n",
    "    Η θεωρητική τιμή υπολογίζεται από τον πίνακα μεταβάσεων P υψωμένο στην 20η δύναμη. Προσεγγιστικά και μέσω python στο δεύτερο μπλοκ κώδικα υπολογίζεται ο πίνακας μετάβασης στην 20η δύναμη και προκύπτει ότι το αποτέλεσμα ειναι οριακά διαφορετικό της πραγματικής τιμής $\\mathbb{p11}$ = $0.04$.\n",
    "    \n",
    "    \n",
    "3. Ποια είναι η δειγματική διασπορά των $M$ εκτιμήσεων στις δύο περιπτώσεις;\n",
    "\n",
    "    Η δειγματική διασπορά προκύπτει επίσης από το πρώτο μπλοκ κώδικα για $200$ και $20.000$ δείγματα ως $0.00012$ και $0.00000$.\n",
    "    \n",
    "    \n",
    "4. Αλλάζει ουσιαστικά η εκτίμησή σας, αν η αλυσίδα ξεκινάει από την κατάσταση `3` (τρίτη γραμμή του πίνακα);\n",
    "\n",
    "    Όχι, η πιθανότητα να βρεθείς σε μια κατάσταση έπειτα απο ικανοποιητικό αριθμό βημάτων εξαρτάται μονάχα από την κατάσταση στόχο και όχι απο την αρχική συνθήκη (όπως φαίνεται και από τα αποτελέσματα στο δεύτερο μπλοκ κώδικα). Αυτό δεν ισχύει εν γένει σε όλες τις μαρκοβιανές αλυσίδες.\n",
    "    "
   ]
  },
  {
   "cell_type": "markdown",
   "metadata": {},
   "source": [
    "## Άσκηση 40"
   ]
  },
  {
   "cell_type": "code",
   "execution_count": 1,
   "metadata": {},
   "outputs": [
    {
     "name": "stdout",
     "output_type": "stream",
     "text": [
      " \n",
      "    For M = 50, N = 50000\n",
      "    The sample mean is 0.73621 and the sample variance is 0.00000\n",
      "    \n"
     ]
    }
   ],
   "source": [
    "import random\n",
    "random.seed(2018)  # for reproducibility\n",
    "from simple_markov_chain_lib import markov_chain\n",
    "import statistics as stat ## import the library statistics. We will use it to compute the mean and variance of our list\n",
    "\n",
    "# A dictionary for the initial distibution. \n",
    "# We prescribe the initial distribution\n",
    "init_probs = {\"0-0\": 1.0} \n",
    " \n",
    "# A dictionary for the transition probability  matrix. \n",
    "# Every state-key corresponds to a list with tuples of (Next_State,Probability) \n",
    "p = 0.6\n",
    "q = 1-p\n",
    "markov_table = {\n",
    "    \"A\": {\"A\": 1},\n",
    "    \"B\": {\"B\": 1},\n",
    "    \n",
    "    \"0-0\": {\"15-0\": p, \"0-15\": q},\n",
    "    \"15-0\": {\"30-0\": p, \"15-15\": q},\n",
    "    \"0-15\": {\"15-15\": p, \"0-30\": q},\n",
    "    \"30-0\": {\"40-0\": p, \"30-15\": q},\n",
    "    \"0-30\": {\"15-30\": p, \"0-40\": q},\n",
    "    \"40-0\": {\"A\": p, \"40-15\": q},\n",
    "    \"0-40\": {\"15-40\": p, \"B\": q},\n",
    "\n",
    "    \"15-15\": {\"30-15\": p, \"15-30\": q},\n",
    "    \"Deuce\": {\"AdvA\": p, \"AdvB\": q},\n",
    "    \n",
    "    \"30-15\": {\"40-15\": p, \"Deuce\": q},\n",
    "    \"15-30\": {\"Deuce\": p, \"15-40\": q},\n",
    "    \"40-15\": {\"A\": p, \"AdvA\": q},\n",
    "    \"15-40\": {\"AdvB\": p, \"B\": q},\n",
    "\n",
    "    \"AdvB\": {\"Deuce\": p, \"B\": q},\n",
    "    \"AdvA\": {\"A\": p, \"Deuce\": q}\n",
    "    \n",
    "}\n",
    " \n",
    "# Ok... we are ready know\n",
    "# Let's construct a Markov Chain. So let's call the constructor\n",
    "mc = markov_chain(markov_table, init_probs)\n",
    "estimates=[] ## create the empty list estimates.\n",
    "M = 50\n",
    "\n",
    "## Experiment parameters\n",
    "\n",
    "for j in range(0,M):\n",
    "    N = 50000     # number of samples\n",
    "    counter = 0  # to count the number of times the event {X_40  = 1} occurs\n",
    "\n",
    "    ## Simulation\n",
    "    for i in range(N):\n",
    "        mc.start()  # new experiment\n",
    "        while mc.running_state != \"A\" and mc.running_state != \"B\":  mc.move()\n",
    "        if mc.running_state == \"A\":  counter += 1\n",
    "        \n",
    "    phat = counter / N\n",
    "    estimates.append(phat)\n",
    "    \n",
    "print(\n",
    "    \"\"\" \n",
    "    For M = 50, N = 50000\n",
    "    The sample mean is {0:.5f} and the sample variance is {1:.5f}\n",
    "    \"\"\".format(stat.mean(estimates), stat.variance(estimates))\n",
    ")\n"
   ]
  },
  {
   "cell_type": "markdown",
   "metadata": {},
   "source": [
    "# Απαντήσεις ανάλυσης\n",
    "\n",
    "Θεωρούμε την μαρκοβιανή αλυσίδα με καταστάσεις όλες τις πιθανές καταστάσεις ενος παιχνιδιού τένις (17 καταστάσεις). Η πιθανότητα μετάβασης από κάθε κατάσταση σε κάθε άλλη (εκτός των δύο τελικών καταστάσεων) επιλέγεται ως p = $0.6$ για πόντο του παίκτη Α και q = 1 - p = $0.4$ για πόντο του παίκτη Β. Προσομοιάζουμε το παιχνίδι μετρώντας τις φορές που νίκησε ο Α σε $50.000$ παιχνίδια 50 φορές. Από αυτές τις εκτιμήσεις λαμβάνουμε την δειγματική μέση τιμή και διασπορά της εκτίμησης πιθανότητας νίκης του Α ως $0.73621$ και $0$ αντίστοιχα!"
   ]
  }
 ],
 "metadata": {
  "kernelspec": {
   "display_name": "Python 3",
   "language": "python",
   "name": "python3"
  },
  "language_info": {
   "codemirror_mode": {
    "name": "ipython",
    "version": 3
   },
   "file_extension": ".py",
   "mimetype": "text/x-python",
   "name": "python",
   "nbconvert_exporter": "python",
   "pygments_lexer": "ipython3",
   "version": "3.6.9"
  }
 },
 "nbformat": 4,
 "nbformat_minor": 4
}
