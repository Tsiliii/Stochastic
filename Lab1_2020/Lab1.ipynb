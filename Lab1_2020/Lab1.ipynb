{
 "cells": [
  {
   "cell_type": "markdown",
   "metadata": {},
   "source": [
    "### Πρώτο εργαστήριο στοχαστικών διαδικασιών 2020\n",
    "\n",
    "Η μοντελοποίηση του προβλήματος γινέται με 5 καταστάσεις-δωμάτια. Σε καθέ μία από αυτές δίνουμε ισοπίθανες πιθανότητες μετάβασεις σε καταστάσεις-δωμάτια που συνδέονται με αυτήν με πόρτα. Στηριζόμενοι στην εκφώνηση θεωρούμε ότι η πιθανότητα παραμονής σε ένα δωμάτιο είναι 0."
   ]
  },
  {
   "cell_type": "code",
   "execution_count": 3,
   "metadata": {},
   "outputs": [
    {
     "name": "stdout",
     "output_type": "stream",
     "text": [
      "At time 0 the chain is in state M\n",
      "At time 1 the chain is in state S\n",
      "At time 2 the chain is in state Y\n",
      "At time 3 the chain is in state S\n",
      "At time 4 the chain is in state M\n",
      "At time 5 the chain is in state S\n",
      "At time 6 the chain is in state B\n",
      "At time 7 the chain is in state S\n",
      "At time 8 the chain is in state K\n",
      "At time 9 the chain is in state B\n",
      "At time 10 the chain is in state K\n",
      "At time 11 the chain is in state S\n",
      "At time 12 the chain is in state K\n",
      "At time 13 the chain is in state S\n",
      "At time 14 the chain is in state B\n",
      "At time 15 the chain is in state S\n",
      "At time 16 the chain is in state B\n",
      "At time 17 the chain is in state S\n",
      "At time 18 the chain is in state Y\n",
      "At time 19 the chain is in state S\n",
      "At time 20 the chain is in state Y\n"
     ]
    }
   ],
   "source": [
    "from simple_markov_chain_lib import markov_chain  # import markov chain simulator\n",
    "\n",
    "# Transition Table\n",
    "markov_table = {\n",
    "    'K': {'B': .5, 'S': .5},  # from state 0 we move to state 1 with prob 0.5 and to state 2 with 0.5\n",
    "    'B': {'K': .5, 'S': .5},\n",
    "    'S': {'K': .25, 'B': .25, 'Y': .25, 'M': .25},\n",
    "    'Y': {'S': 1.},\n",
    "    'M': {'S': 1.}\n",
    "}\n",
    "\n",
    "# Initial Distribution\n",
    "init_dist = {'M': 1.}  # we start from state 0 with probability 1\n",
    "\n",
    "mc = markov_chain(markov_table, init_dist)\n",
    "\n",
    "mc.start()\n",
    "print(\"At time {} the chain is in state {}\".format(mc.steps, mc.running_state))\n",
    "for i in range(20):\n",
    "    mc.move()\n",
    "    print(\"At time {} the chain is in state {}\".format(mc.steps, mc.running_state))\n"
   ]
  },
  {
   "cell_type": "markdown",
   "metadata": {},
   "source": [
    "##### Επιτυχία\n",
    "\n",
    "Το πρόβλημα προσομοιώθηκε με επιτυχία, για 20 χρονικές στιγμές."
   ]
  }
 ],
 "metadata": {
  "kernelspec": {
   "display_name": "Python 3",
   "language": "python",
   "name": "python3"
  },
  "language_info": {
   "codemirror_mode": {
    "name": "ipython",
    "version": 3
   },
   "file_extension": ".py",
   "mimetype": "text/x-python",
   "name": "python",
   "nbconvert_exporter": "python",
   "pygments_lexer": "ipython3",
   "version": "3.6.9"
  }
 },
 "nbformat": 4,
 "nbformat_minor": 4
}
